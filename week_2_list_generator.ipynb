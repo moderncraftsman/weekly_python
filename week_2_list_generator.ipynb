{
 "cells": [
  {
   "cell_type": "markdown",
   "metadata": {},
   "source": [
    "### Week Two - My Range (List and Iterator Version)"
   ]
  },
  {
   "cell_type": "markdown",
   "metadata": {},
   "source": [
    "You're probably familiar with the \"range\" function in Python.  In Python 2, it returns a list:\n",
    "    >>> range(5)\n",
    "    [0, 1, 2, 3, 4]\n",
    "\n",
    "    >>> range(5,10)\n",
    "    [5, 6, 7, 8, 9]\n",
    "\n",
    "    >>> range(5,20,3)\n",
    "    [5, 8, 11, 14, 17]\n",
    "\n",
    "In Python 3, \"range\" returns an iterator object -- the same sort of object as \"xrange\" returned in Python 2:\n",
    "    >>> range(5)\n",
    "    range(0, 5)\n",
    "\n",
    "    >>> range(5,10)\n",
    "    range(5, 10)\n",
    "\n",
    "    >>> range(5,20,3)\n",
    "    range(5, 20, 3)\n",
    "\n",
    "This week, I want you to implement \"myrange\", our own home-grown version of the built-in \"range\" function.\n",
    "\n",
    "Should you implement it Python 2 style, such that it returns a list, or Python 3 style, such that it returns an iterator?\n",
    "\n",
    "The answer is: Yes!  I'd like you to implement both, so that you can see the difference between returning a list (potentially long) and returning an iterator.\n",
    "\n",
    "That is, I'd like you to implement:\n",
    "A function (\"myrange2\") that takes one, two, or three parameters and returns a list that looks like my above examples for Python 2's \"range\" function.\n",
    "A generator function (\"myrange3\") that takes one, two, or three parameters and returns an iterator (well, a generator) that looks like my above examples for Python 3's \"range\" function.  Note that the printed representation doesn't have to look the same.\n",
    "In both cases, it should be possible to take the output of calling our function and stick it into a \"for\" loop:\n",
    "    for x in myrange2(10, 30, 3):\n",
    "        print(x)\n",
    "\n",
    "The above should print\n",
    "    10 13 16 19 22 25 28\n",
    "\n",
    "We should get the same result from invoking:\n",
    "    for x in myrange3(10, 30, 3):\n",
    "        print(x)"
   ]
  },
  {
   "cell_type": "code",
   "execution_count": 1,
   "metadata": {
    "collapsed": true
   },
   "outputs": [],
   "source": [
    "import unittest"
   ]
  },
  {
   "cell_type": "code",
   "execution_count": 2,
   "metadata": {
    "collapsed": true
   },
   "outputs": [],
   "source": [
    "def myrange2(*args):\n",
    "    # Test for right number of parameters\n",
    "    assert(len(args)<=3 and len(args)>=1), \"Invalid number of parameters given!\"\n",
    "    \n",
    "    # Test for correct parameter types\n",
    "    for i in args:\n",
    "        assert(isinstance(i, int)), \"myrange2 only accepts integer parameters\"\n",
    "    \n",
    "    start = 0\n",
    "    step = 1\n",
    "    if len(args) == 3:\n",
    "        start, end, step = args\n",
    "        assert(step!=0), \"Step cannot be zero\"\n",
    "        \n",
    "    elif len(args) == 2:\n",
    "        start, end = args\n",
    "    \n",
    "    else:\n",
    "        end = args[0]\n",
    "        \n",
    "    curr = start\n",
    "    result = []\n",
    "    if step>0:\n",
    "        # Positive increment\n",
    "        while curr < end:\n",
    "            result.append(curr)\n",
    "            curr += step\n",
    "    else:\n",
    "        while curr > end:\n",
    "            result.append(curr)\n",
    "            curr += step\n",
    "    \n",
    "    return result"
   ]
  },
  {
   "cell_type": "code",
   "execution_count": 3,
   "metadata": {
    "collapsed": true
   },
   "outputs": [],
   "source": [
    "class TestMyRange(unittest.TestCase):\n",
    "    def test_one_param(self):\n",
    "        self.assertEqual(myrange2(3), [0, 1, 2])\n",
    "        \n",
    "    def test_two_param(self):\n",
    "        self.assertEqual(myrange2(3, 8), [3, 4, 5, 6, 7])\n",
    "    \n",
    "    def test_three_param_increment_pos(self):\n",
    "        self.assertEqual(myrange2(1, 5, 2), [1, 3])\n",
    "    \n",
    "    def test_three_param_increment_neg(self):\n",
    "        self.assertEqual(myrange2(-10, -6, 3), [-10, -7])\n",
    "\n",
    "    def test_three_param_increment_mix(self):\n",
    "        self.assertEqual(myrange2(-2, 6, 2), [-2, 0, 2, 4])\n",
    "    \n",
    "    def test_three_param_decrement_pos(self):\n",
    "        self.assertEqual(myrange2(10, 5, -2), [10, 8, 6])\n",
    "        \n",
    "    def test_three_param_decrement_neg(self):\n",
    "        self.assertEqual(myrange2(-4, -11, -3), [-4, -7, -10])\n",
    "    \n",
    "    def test_three_param_decrement_mix(self):\n",
    "        self.assertEqual(myrange2(6, -11, -5), [6, 1, -4, -9])\n",
    "    \n",
    "#     def test_max_param_exceeded(self):\n",
    "#         self.assertEqual(myrange2(6, -11, -5), [6, 1, -4, -9])"
   ]
  },
  {
   "cell_type": "code",
   "execution_count": 4,
   "metadata": {},
   "outputs": [
    {
     "name": "stderr",
     "output_type": "stream",
     "text": [
      "........\n",
      "----------------------------------------------------------------------\n",
      "Ran 8 tests in 0.027s\n",
      "\n",
      "OK\n"
     ]
    }
   ],
   "source": [
    "if __name__ == '__main__':\n",
    "    unittest.main(argv=['first-arg-is-ignored'], exit=False)\n",
    "    \n",
    "# https://medium.com/@vladbezden/using-python-unittest-in-ipython-or-jupyter-732448724e31"
   ]
  },
  {
   "cell_type": "code",
   "execution_count": 5,
   "metadata": {
    "collapsed": true
   },
   "outputs": [],
   "source": [
    "def myrange3(*args):\n",
    "    assert(len(args)<=3 and len(args)>=1),\"Invalid number of parameters\"\n",
    "    for i in args:\n",
    "        assert(isinstance(i, int)), \"Non-integer Parameters\"\n",
    "    \n",
    "    # default values\n",
    "    start = 0    \n",
    "    step = 1\n",
    "    \n",
    "    if len(args) == 3:\n",
    "        assert(args[2]!=0), \"Increment cannot be zero\"  # finite iterator\n",
    "        start, stop, step = args\n",
    "    \n",
    "    elif len(args) == 2:\n",
    "        start, stop = args\n",
    "    \n",
    "    else:\n",
    "        # Single element tuple (x,) needs indexing to assign\n",
    "        stop = args[0]\n",
    "    \n",
    "    curr = start\n",
    "    if step > 0:\n",
    "        while curr < stop:\n",
    "            yield curr\n",
    "            curr += step\n",
    "    else:\n",
    "        # step is <0\n",
    "        while curr > stop:\n",
    "            yield curr\n",
    "            curr += step\n",
    "        "
   ]
  },
  {
   "cell_type": "code",
   "execution_count": 6,
   "metadata": {},
   "outputs": [
    {
     "data": {
      "text/plain": [
       "<generator object myrange3 at 0x00000211384D7E08>"
      ]
     },
     "execution_count": 6,
     "metadata": {},
     "output_type": "execute_result"
    }
   ],
   "source": [
    "myrange3(3,10)"
   ]
  },
  {
   "cell_type": "code",
   "execution_count": 7,
   "metadata": {},
   "outputs": [
    {
     "name": "stdout",
     "output_type": "stream",
     "text": [
      "30\n",
      "27\n",
      "24\n",
      "21\n",
      "18\n",
      "15\n",
      "12\n"
     ]
    }
   ],
   "source": [
    "for i in myrange3(30,10,-3):\n",
    "    print(i)"
   ]
  },
  {
   "cell_type": "markdown",
   "metadata": {},
   "source": [
    "**References**:\n",
    "- https://docs.python-guide.org/writing/tests/\n",
    "- https://medium.com/@vladbezden/using-python-unittest-in-ipython-or-jupyter-732448724e31\n",
    "- https://wiki.python.org/moin/Generators\n",
    "- https://www.programiz.com/python-programming/iterator"
   ]
  },
  {
   "cell_type": "markdown",
   "metadata": {},
   "source": [
    "### Suggested Solution"
   ]
  },
  {
   "cell_type": "code",
   "execution_count": null,
   "metadata": {
    "collapsed": true
   },
   "outputs": [],
   "source": [
    "def myrange2(first, second=None, step=1):\n",
    "    if second is None:\n",
    "        current = 0\n",
    "        end = first\n",
    "    else:\n",
    "        current = first\n",
    "        end = second\n",
    "\n",
    "    output = []\n",
    "    while current < end:\n",
    "        output.append(current)\n",
    "        current += step\n",
    "\n",
    "    return output\n",
    "    \n",
    "def myrange3(first, second=None, step=1):\n",
    "    if second is None:\n",
    "        current = 0\n",
    "        end = first\n",
    "    else:\n",
    "        current = first\n",
    "        end = second\n",
    "\n",
    "    while current < end:\n",
    "        yield current\n",
    "        current += step"
   ]
  }
 ],
 "metadata": {
  "kernelspec": {
   "display_name": "Python 3",
   "language": "python",
   "name": "python3"
  },
  "language_info": {
   "codemirror_mode": {
    "name": "ipython",
    "version": 3
   },
   "file_extension": ".py",
   "mimetype": "text/x-python",
   "name": "python",
   "nbconvert_exporter": "python",
   "pygments_lexer": "ipython3",
   "version": "3.6.1"
  }
 },
 "nbformat": 4,
 "nbformat_minor": 2
}
