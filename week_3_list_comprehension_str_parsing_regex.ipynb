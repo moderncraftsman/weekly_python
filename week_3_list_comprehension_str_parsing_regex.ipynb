{
 "cells": [
  {
   "cell_type": "markdown",
   "metadata": {},
   "source": [
    "# Parsing Logfiles with Regex"
   ]
  },
  {
   "cell_type": "markdown",
   "metadata": {},
   "source": [
    "This week, we're going to play with files.  Specifically, logfiles.\n",
    "\n",
    "A lot of the Python developers I teach (and work with) work with logfiles of various sorts, and want to work with those files in various ways.  This week, we'll see how we can turn the logfile into a list of dictionaries, making it easier to manipulate.\n",
    "\n",
    "For the purposes of this exercise, we'll be looking at one of my favorite files, which I call \"mini-access-log.txt\".  It is an excerpt from the Apache HTTP server on my computer (lerner.co.il) from several years ago.  You can view and download it from here:\n",
    "\n",
    "    https://gist.github.com/reuven/5875971\n",
    "\n",
    "Each line of this logfile looks like the following:\n",
    "67.218.116.165 - - [30/Jan/2010:00:03:18 +0200] \"GET /robots.txt HTTP/1.0\" 200 99 \"-\" \"Mozilla/5.0 (Twiceler-0.9 http://www.cuil.com/twiceler/robot.html)\"\n",
    "\n",
    "As you can see:\n",
    "The fields aren't separated by whitespace, but are still recognizable to a human.\n",
    "Each line starts with an IP address.\n",
    "Between square brackets, we have the timestamp -- date, time, and then the time zone.\n",
    "Following the timestamp, inside of double quotes (\"), we have the HTTP request.  You can assume that in this file, all of the request start with the word GET.\n",
    "There are other fields as well, but these are the ones that interest me.\n",
    "\n",
    "The exercise is to write a function that, when given a filename, returns a list of dictionaries.  Each dict should have the following keys:\n",
    "ip_address, containing the IP address\n",
    "timestamp, containing the timestamp (not including the square brackets, but everything inside of them)\n",
    "request, containing the HTTP request (not including the double quotes, but everything inside of them)\n",
    "\n",
    "Thus, the above line from mini-access-log.txt would look like this:\n",
    "    {'ip_address': '67.218.116.165',\n",
    "     'timestamp': '30/Jan/2010:00:03:18 +0200',\n",
    "     'request': 'GET /robots.txt HTTP/1.0'}\n",
    "\n",
    "We'll transform the file into a list of dicts, each of which looks that.  There are 206 lines in the file, which means that this list will contain 206 dictionaries, each with these three key-value pairs.\n",
    "\n",
    "Using a regular expression will definitely help here -- but if you don't know regexps, then don't worry; you can still get it to work. That said,  but it'll be a bit clunky."
   ]
  },
  {
   "cell_type": "code",
   "execution_count": 1,
   "metadata": {
    "collapsed": true
   },
   "outputs": [],
   "source": [
    "import re\n",
    "import csv"
   ]
  },
  {
   "cell_type": "code",
   "execution_count": 2,
   "metadata": {},
   "outputs": [
    {
     "name": "stdout",
     "output_type": "stream",
     "text": [
      "{'ip_address': '65.55.106.186', 'timestamp': '30/Jan/2010:07:07:13 +0200', 'request': 'GET /robots.txt HTTP/1.1'}\n"
     ]
    }
   ],
   "source": [
    "fp = open('./data/mini-access-log.txt', 'r')\n",
    "logs = list(csv.reader(fp))\n",
    "\n",
    "result_list = []\n",
    "for log in logs:\n",
    "    result = {}\n",
    "    result['ip_address'] = re.search(r\"^[0-9]*.[0-9]*.[0-9]*.[0-9]*\", log[0]).group()  # Starts with number\n",
    "    result['timestamp'] = re.search(r\"(\\[)(.*)(\\])\", log[0]).group(2)  # text within []\n",
    "    \n",
    "    # Get text starting with GET and ends with number before first closing double quote \"\n",
    "    result['request'] = re.search(r'(GET.+[0-9])\"', log[0]).group(1)  \n",
    "    result_list.append(result)\n",
    "\n",
    "print(result_list[20])"
   ]
  },
  {
   "cell_type": "markdown",
   "metadata": {},
   "source": [
    "### Testing regex"
   ]
  },
  {
   "cell_type": "code",
   "execution_count": 6,
   "metadata": {},
   "outputs": [
    {
     "name": "stdout",
     "output_type": "stream",
     "text": [
      "['67.218.116.165 - - [30/Jan/2010:00:03:18 +0200] \"GET /robots.txt HTTP/1.0\" 200 99 \"-\" \"Mozilla/5.0 (Twiceler-0.9 http://www.cuil.com/twiceler/robot.html)\"']\n"
     ]
    },
    {
     "data": {
      "text/plain": [
       "'67.218.116.165'"
      ]
     },
     "execution_count": 6,
     "metadata": {},
     "output_type": "execute_result"
    }
   ],
   "source": [
    "log = logs[0]\n",
    "print(log)\n",
    "re.search(r\"^[0-9]*.[0-9]*.[0-9]*.[0-9]*\", log[0]).group()"
   ]
  },
  {
   "cell_type": "code",
   "execution_count": 4,
   "metadata": {},
   "outputs": [
    {
     "data": {
      "text/plain": [
       "'30/Jan/2010:00:03:18 +0200'"
      ]
     },
     "execution_count": 4,
     "metadata": {},
     "output_type": "execute_result"
    }
   ],
   "source": [
    "re.search(r\"(\\[)(.*)(\\])\", log[0]).group(2)"
   ]
  },
  {
   "cell_type": "code",
   "execution_count": 5,
   "metadata": {},
   "outputs": [
    {
     "data": {
      "text/plain": [
       "'GET /robots.txt HTTP/1.0'"
      ]
     },
     "execution_count": 5,
     "metadata": {},
     "output_type": "execute_result"
    }
   ],
   "source": [
    "re.search(r'(GET.+[0-9])\"', log[0]).group(1)"
   ]
  },
  {
   "cell_type": "markdown",
   "metadata": {},
   "source": [
    "### Solutions"
   ]
  },
  {
   "cell_type": "code",
   "execution_count": null,
   "metadata": {
    "collapsed": true
   },
   "outputs": [],
   "source": [
    "import re\n",
    "\n",
    "logfilename = 'mini-access-log.txt'\n",
    "\n",
    "def re_line_to_dict(line):\n",
    "    regexp = '''\n",
    "((?:\\d{1,3}\\.){3}\\d{1,3})       # IP addresses contain four numbers (each with 1-3 digits)\n",
    ".*                              # Junk between IP address and timestamp\n",
    "\\[([^\\]]+)\\]                    # Timestamp, defined to be anything between [ and ]\n",
    ".*                              # Junk between timestamp and request\n",
    "\"(GET[^\"]+)\"                    # Request, starting with GET\n",
    "'''\n",
    "    m = re.search(regexp, line, re.X)\n",
    "\n",
    "    if m:\n",
    "        ip_address = m.group(1)\n",
    "        timestamp = m.group(2)\n",
    "        request = m.group(3)\n",
    "\n",
    "    else:\n",
    "        ip_address = 'No IP address found'\n",
    "        timestamp = 'No timestamp found'\n",
    "        request = 'No request found'\n",
    "\n",
    "    output = {'ip_address': ip_address,\n",
    "              'timestamp': timestamp,\n",
    "              'request': request}\n",
    "    return output\n",
    "\n",
    "\n",
    "def line_to_dict(line):\n",
    "    ip_address = line.split()[0]\n",
    "\n",
    "    timestamp_start = line.index('[') + 1\n",
    "    timestamp_end = line.index(']')\n",
    "    timestamp = line[timestamp_start:timestamp_end]\n",
    "\n",
    "    request_start = line.index('\"') + 1\n",
    "    request_end = line[request_start:].index('\"')\n",
    "    request = line[request_start:request_start+request_end]\n",
    "\n",
    "    return {'ip_address': ip_address,\n",
    "            'timestamp': timestamp,\n",
    "            'request': request}\n",
    "\n",
    "\n",
    "def logtolist(filename):\n",
    "    return [line_to_dict(line)\n",
    "            for line in open(filename)]\n",
    "\n",
    "\n",
    "for one_item in logtolist(logfilename):\n",
    "    print(one_item)\n"
   ]
  }
 ],
 "metadata": {
  "kernelspec": {
   "display_name": "Python 3",
   "language": "python",
   "name": "python3"
  },
  "language_info": {
   "codemirror_mode": {
    "name": "ipython",
    "version": 3
   },
   "file_extension": ".py",
   "mimetype": "text/x-python",
   "name": "python",
   "nbconvert_exporter": "python",
   "pygments_lexer": "ipython3",
   "version": "3.6.1"
  }
 },
 "nbformat": 4,
 "nbformat_minor": 2
}
