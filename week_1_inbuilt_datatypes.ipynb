{
 "cells": [
  {
   "cell_type": "markdown",
   "metadata": {},
   "source": [
    "# Week 1: Python Built-in Types"
   ]
  },
  {
   "cell_type": "markdown",
   "metadata": {},
   "source": [
    "This week, we'll explore the built-in data types, seeing how we can store information in them, and then extract information from them, without having to create a new class.\n",
    "\n",
    "The idea is that we want to organize a list of places to which someone has traveled. That is: We'll ask the user to enter, one at a time, a city and country to which they have traveled. The city and country should be separated by a comma. If there is no comma, then the user is given an error message, and given another chance. If the user enters a city-country combination, then this information is recorded, and then they're asked again.  Indeed, the user is asked again and again for a city-state combination, until they provide an empty response. When that happens, the questioning phase ends, and the reporting phase begins.\n",
    "\n",
    "In the report, we'll want to see a list of all of the places visited, organized by country. That is, we'll get a list of the visited countries, presented in alphabetical order, and for each country, we'll see a list of visited cities, also in alphabetical order.  If the city was visited more than once, then we'll see a number next to its name.\n",
    "\n",
    "For example, this is how the interaction could look:\n",
    "    Tell mewhere you went: New York, USA\n",
    "    Tell me where you went: London, England\n",
    "    Tell me where you went: Shanghai, China\n",
    "    Tell me where you went: Chicago, USA\n",
    "    Tell me where you went: Beijing, China\n",
    "    Tell me where you went: Chicago, USA\n",
    "    Tell me where you went: Beijing, China\n",
    "    Tell me where you went: lalala\n",
    "    That's not a legal city, state combination\n",
    "    Tell me where you went: Boston, USA\n",
    "    Tell me where you went: <user presses \"enter\" here>\n",
    "\n",
    "    You visited:\n",
    "    China\n",
    "        Beijing (2)\n",
    "        Shanghai\n",
    "    England\n",
    "        London\n",
    "    USA\n",
    "        Boston\n",
    "        Chicago (2)\n",
    "        New York"
   ]
  },
  {
   "cell_type": "markdown",
   "metadata": {},
   "source": [
    "### My Solution Thought Process\n",
    "- Questioning/Input Phase: \n",
    "    - Check each input has 1 comma as delimiter, split that str, with first part belonging to city and second part to country\n",
    "    - If no comma present and str is not empty or more than 1 comma, present an error\n",
    "    - Use a while loop to continually seek user input\n",
    "    - Terminate while loop when input is empty str\n",
    "\n",
    "\n",
    "- Reporting Phase: \n",
    "    - Results are presented in a country, city format.\n",
    "    - Both needs to be sorted in alphabetical order, an ordered dictionary is required\n",
    "    - A counter is needed to count the number of times a city appears.\n"
   ]
  },
  {
   "cell_type": "code",
   "execution_count": null,
   "metadata": {},
   "outputs": [
    {
     "name": "stdout",
     "output_type": "stream",
     "text": [
      "Tell me where you went:New York, USA\n",
      "Tell me where you went:London, England\n",
      "Tell me where you went:Shanghai, China\n",
      "Tell me where you went:Chicago, USA\n",
      "Tell me where you went:Beijing, China\n",
      "Tell me where you went:Chicago, USA\n",
      "Tell me where you went:Beijing, China\n",
      "Tell me where you went:lalala\n",
      "That's not a legal city, state combination\n",
      "Tell me where you went:Boston, USA\n",
      "Tell me where you went:\n",
      "\n",
      "You visited:\n",
      "China\n",
      "    Beijing (2)\n",
      "    Shanghai\n",
      "England\n",
      "    London\n",
      "USA\n",
      "    Boston\n",
      "    Chicago (2)\n",
      "    New York\n"
     ]
    }
   ],
   "source": [
    "from collections import OrderedDict, Counter\n",
    "\n",
    "usr_input = None\n",
    "travel_hist = {}\n",
    "\n",
    "while usr_input != \"\":\n",
    "    usr_input = input(\"Tell me where you went:\")\n",
    "    try:\n",
    "        # Expect 2 parameter to unpack given valid input\n",
    "        # Else input is either wrong or to terminate\n",
    "        city, country = usr_input.split(',')\n",
    "        city = city.strip()  # remove stray spaces\n",
    "        country = country.strip()  # remove stray spaces\n",
    "        \n",
    "        if country not in travel_hist:\n",
    "            # Create counter for first visit to country.\n",
    "            # Need to put string as item in list to count at string level, \n",
    "            # else counter will count at alphabet level\n",
    "            travel_hist[country] = Counter([city])\n",
    "        else:\n",
    "            # Update counter for subsequent visit to country\n",
    "            travel_hist[country].update([city])\n",
    "    \n",
    "    except ValueError:\n",
    "        if usr_input != \"\":\n",
    "            # print error message since input is invalid\n",
    "            print(\"That's not a legal city, state combination\")\n",
    "            \n",
    "## User input == \"\", Prepare Report\n",
    "\n",
    "# Store keys in alphabetical order\n",
    "ordered_travel_hist = OrderedDict(sorted(travel_hist.items()))\n",
    "\n",
    "print(\"\\nYou visited:\")\n",
    "for cntry, city_counter in ordered_travel_hist.items():\n",
    "    print(cntry)\n",
    "    for city in sorted(city_counter):\n",
    "        print(\"    \", end=\"\")\n",
    "        visit_count = city_counter[city]\n",
    "        if visit_count > 1:\n",
    "            print(\"{} ({})\".format(city, visit_count))\n",
    "        else:\n",
    "            print(city)"
   ]
  },
  {
   "cell_type": "markdown",
   "metadata": {},
   "source": [
    "References:\n",
    "- https://stackoverflow.com/questions/9001509/how-can-i-sort-a-dictionary-by-key\n",
    "- https://docs.python.org/3/library/collections.html#collections.OrderedDict\n",
    "- https://docs.python.org/3/library/collections.html#collections.Counter\n",
    "- https://docs.python.org/3/library/functions.html#print"
   ]
  },
  {
   "cell_type": "markdown",
   "metadata": {},
   "source": [
    "### Suggested Solution"
   ]
  },
  {
   "cell_type": "code",
   "execution_count": null,
   "metadata": {},
   "outputs": [],
   "source": [
    "#!/usr/bin/env python3.6\n",
    "\n",
    "from collections import defaultdict, Counter\n",
    "\n",
    "visits = defaultdict(Counter)\n",
    "\n",
    "while True:\n",
    "\n",
    "    location = input(\"Tell me where you went: \").strip()\n",
    "\n",
    "    if not location:\n",
    "        break\n",
    "\n",
    "    if location.count(',') != 1:\n",
    "        print(\"That's not a legal city, country combination\")\n",
    "        continue\n",
    "\n",
    "    city, country = location.split(',')\n",
    "    \n",
    "    visits[country.strip()][city.strip()] += 1\n",
    "\n",
    "for country, cities in sorted(visits.items()):\n",
    "    print(country)\n",
    "    for one_city, count in sorted(cities.items()):\n",
    "        if count == 1:\n",
    "            print(f\"\\t{one_city}\")\n",
    "        else:\n",
    "            print(f\"\\t{one_city} ({count})\")"
   ]
  }
 ],
 "metadata": {
  "kernelspec": {
   "display_name": "Python 3",
   "language": "python",
   "name": "python3"
  },
  "language_info": {
   "codemirror_mode": {
    "name": "ipython",
    "version": 3
   },
   "file_extension": ".py",
   "mimetype": "text/x-python",
   "name": "python",
   "nbconvert_exporter": "python",
   "pygments_lexer": "ipython3",
   "version": "3.6.1"
  }
 },
 "nbformat": 4,
 "nbformat_minor": 2
}
